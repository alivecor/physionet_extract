{
 "cells": [
  {
   "cell_type": "code",
   "execution_count": 47,
   "metadata": {},
   "outputs": [],
   "source": [
    "from acpy.atc import parse_atc_file\n",
    "import wfdb\n",
    "import matplotlib.pyplot as plt\n",
    "import numpy as np\n",
    "import re,os,itertools\n",
    "\n",
    "wfpath = '/Users/schram/projects/physionet_extract/'\n",
    "db = 'afdb'\n",
    "atc_path='/Users/schram/projects/physionet_extract/afdbout/'"
   ]
  },
  {
   "cell_type": "code",
   "execution_count": 48,
   "metadata": {},
   "outputs": [
    {
     "name": "stdout",
     "output_type": "stream",
     "text": [
      "00735.atr had error loading\n",
      "00735:\t36823s wfdb\t0s atc\n",
      "03665.atr had error loading\n",
      "03665:\t36823s wfdb\t0s atc\n",
      "04015:\t36823s wfdb\t5640s atc\n",
      "04043:\t36823s wfdb\t33480s atc\n",
      "04048:\t36823s wfdb\t30570s atc\n",
      "04126:\t36823s wfdb\t33060s atc\n",
      "04746:\t36823s wfdb\t29850s atc\n",
      "04908:\t36823s wfdb\t34890s atc\n",
      "04936:\t36823s wfdb\t32370s atc\n",
      "05091:\t36823s wfdb\t17280s atc\n",
      "05121:\t36823s wfdb\t31020s atc\n",
      "05261:\t36823s wfdb\t29310s atc\n",
      "06426:\t36823s wfdb\t24000s atc\n",
      "06453:\t33300s wfdb\t29760s atc\n",
      "06995:\t36823s wfdb\t24960s atc\n",
      "07162:\t36823s wfdb\t0s atc\n",
      "07859:\t36823s wfdb\t0s atc\n",
      "07879:\t36823s wfdb\t29280s atc\n",
      "07910:\t36823s wfdb\t32850s atc\n",
      "08215:\t36823s wfdb\t12810s atc\n",
      "08219:\t36823s wfdb\t23160s atc\n",
      "08378:\t36823s wfdb\t23550s atc\n",
      "08405:\t36823s wfdb\t10200s atc\n",
      "08434:\t36823s wfdb\t10350s atc\n",
      "08455:\t36823s wfdb\t11340s atc\n"
     ]
    }
   ],
   "source": [
    "atc_files = [f for f in os.listdir(atc_path) if re.search('\\.atc$', f)]\n",
    "atc_entries = sorted(list(set( [re.match('{}(\\w+)+_(\\d+)_(\\w+)\\.atc'.format(db), f).group(1) for f in atc_files ] )))\n",
    "\n",
    "wf_entries = [f.split('.atr')[0] for f in os.listdir(os.path.join(wfpath,db)) if re.search('\\.atr$',f)]\n",
    "\n",
    "with open(os.path.join(atc_path,'{}_cover.txt'.format(db)),'w') as f:\n",
    "    for rec in wf_entries:\n",
    "        #get the number of timestamps for that particular entry\n",
    "        timestamps = set( [re.match('{}{}_(\\d+)_(\\w+)\\.atc'.format(db,rec), f).group(1) for f in atc_files if re.match('{}{}_(\\d+)_(\\w+)\\.atc'.format(db,rec),f) ] )\n",
    "\n",
    "        try:\n",
    "            wfrec = wfdb.rdrecord(os.path.join(os.path.join(wfpath,db),rec))\n",
    "        except Exception as e:\n",
    "            print('{}.atr had error loading'.format(rec))\n",
    "        outstr = '{}:\\t{}s wfdb\\t{}s atc'.format(rec,int(wfrec.p_signal.shape[0]/wfrec.fs),30*len(timestamps))\n",
    "        print(outstr)\n",
    "        f.writelines(outstr)\n",
    "\n"
   ]
  },
  {
   "cell_type": "code",
   "execution_count": null,
   "metadata": {},
   "outputs": [],
   "source": []
  }
 ],
 "metadata": {
  "kernelspec": {
   "display_name": "Python 3",
   "language": "python",
   "name": "python3"
  },
  "language_info": {
   "codemirror_mode": {
    "name": "ipython",
    "version": 3
   },
   "file_extension": ".py",
   "mimetype": "text/x-python",
   "name": "python",
   "nbconvert_exporter": "python",
   "pygments_lexer": "ipython3",
   "version": "3.6.4"
  }
 },
 "nbformat": 4,
 "nbformat_minor": 2
}
