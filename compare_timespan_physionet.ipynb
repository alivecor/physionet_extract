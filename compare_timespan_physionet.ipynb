{
 "cells": [
  {
   "cell_type": "code",
   "execution_count": null,
   "metadata": {},
   "outputs": [],
   "source": [
    "from acpy.atc import parse_atc_file\n",
    "import wfdb\n",
    "import matplotlib.pyplot as plt\n",
    "import numpy as np\n",
    "import re,os,itertools\n",
    "\n",
    "wfpath = '/Users/schram/projects/physionet_extract/'\n",
    "db = 'nsrdb'\n",
    "atc_path='/Users/schram/projects/physionet_extract/nsrdbout/'\n",
    "# atc_path='/Users/schram/projects/kardia-datasets/validation/physionet/edb'"
   ]
  },
  {
   "cell_type": "code",
   "execution_count": null,
   "metadata": {},
   "outputs": [],
   "source": [
    "atc_files = [f for f in os.listdir(atc_path) if re.search('\\.atc$', f)]\n",
    "atc_entries = sorted(list(set( [re.match('{}(\\w+)+_(\\d+)_(\\w+)\\.atc'.format(db), f).group(1) for f in atc_files ] )))\n",
    "\n",
    "wf_entries = [f.split('.atr')[0] for f in os.listdir(os.path.join(wfpath,db)) if re.search('\\.atr$',f)]\n",
    "\n",
    "with open(os.path.join(atc_path,'{}_cover.txt'.format(db)),'w') as f:\n",
    "    for rec in wf_entries:\n",
    "        #get the number of timestamps for that particular entry\n",
    "        timestamps = set( [re.match('{}{}_(\\d+)_(\\w+)\\.atc'.format(db,rec), f).group(1) for f in atc_files if re.match('{}{}_(\\d+)_(\\w+)\\.atc'.format(db,rec),f) ] )\n",
    "\n",
    "        try:\n",
    "            wfrec = wfdb.rdrecord(os.path.join(os.path.join(wfpath,db),rec))\n",
    "        except Exception as e:\n",
    "            print('{}.atr had error loading'.format(rec))\n",
    "        outstr = '{}:\\t{}s wfdb\\t{}s atc'.format(rec,int(wfrec.p_signal.shape[0]/wfrec.fs),30*len(timestamps))\n",
    "        print(outstr)\n",
    "        f.writelines(outstr+'\\n')\n",
    "\n"
   ]
  },
  {
   "cell_type": "code",
   "execution_count": null,
   "metadata": {},
   "outputs": [],
   "source": []
  }
 ],
 "metadata": {
  "kernelspec": {
   "display_name": "Python 3",
   "language": "python",
   "name": "python3"
  },
  "language_info": {
   "codemirror_mode": {
    "name": "ipython",
    "version": 3
   },
   "file_extension": ".py",
   "mimetype": "text/x-python",
   "name": "python",
   "nbconvert_exporter": "python",
   "pygments_lexer": "ipython3",
   "version": "3.6.4"
  }
 },
 "nbformat": 4,
 "nbformat_minor": 2
}
